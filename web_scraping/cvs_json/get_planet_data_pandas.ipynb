{
 "cells": [
  {
   "cell_type": "code",
   "execution_count": 1,
   "metadata": {},
   "outputs": [],
   "source": [
    "import pandas as pd"
   ]
  },
  {
   "cell_type": "markdown",
   "metadata": {},
   "source": [
    "# csv data"
   ]
  },
  {
   "cell_type": "code",
   "execution_count": 26,
   "metadata": {},
   "outputs": [],
   "source": [
    "# planets_df = pd.read_csv(\"http://localhost:8080/planets.csv\")\n",
    "planets_df = pd.read_csv(\"../www/planets.csv\")"
   ]
  },
  {
   "cell_type": "code",
   "execution_count": 27,
   "metadata": {},
   "outputs": [
    {
     "data": {
      "text/html": [
       "<div>\n",
       "<style scoped>\n",
       "    .dataframe tbody tr th:only-of-type {\n",
       "        vertical-align: middle;\n",
       "    }\n",
       "\n",
       "    .dataframe tbody tr th {\n",
       "        vertical-align: top;\n",
       "    }\n",
       "\n",
       "    .dataframe thead th {\n",
       "        text-align: right;\n",
       "    }\n",
       "</style>\n",
       "<table border=\"1\" class=\"dataframe\">\n",
       "  <thead>\n",
       "    <tr style=\"text-align: right;\">\n",
       "      <th></th>\n",
       "      <th>Name</th>\n",
       "      <th>Mass</th>\n",
       "      <th>Radius</th>\n",
       "      <th>Description</th>\n",
       "      <th>MoreInfo</th>\n",
       "    </tr>\n",
       "  </thead>\n",
       "  <tbody>\n",
       "    <tr>\n",
       "      <th>0</th>\n",
       "      <td>Mercury</td>\n",
       "      <td>0.3300</td>\n",
       "      <td>4879</td>\n",
       "      <td>Named Mercurius by the Romans because it appea...</td>\n",
       "      <td>https://en.wikipedia.org/wiki/Mercury_(planet)</td>\n",
       "    </tr>\n",
       "    <tr>\n",
       "      <th>1</th>\n",
       "      <td>Venus</td>\n",
       "      <td>4.8700</td>\n",
       "      <td>12104</td>\n",
       "      <td>Roman name for the goddess of love. This plane...</td>\n",
       "      <td>https://en.wikipedia.org/wiki/Venus</td>\n",
       "    </tr>\n",
       "    <tr>\n",
       "      <th>2</th>\n",
       "      <td>Earth</td>\n",
       "      <td>5.9700</td>\n",
       "      <td>12756</td>\n",
       "      <td>The name Earth comes from the Indo-European ba...</td>\n",
       "      <td>https://en.wikipedia.org/wiki/Earth</td>\n",
       "    </tr>\n",
       "    <tr>\n",
       "      <th>3</th>\n",
       "      <td>Mars</td>\n",
       "      <td>0.6420</td>\n",
       "      <td>6792</td>\n",
       "      <td>Named by the Romans for their god of war becau...</td>\n",
       "      <td>https://en.wikipedia.org/wiki/Mars</td>\n",
       "    </tr>\n",
       "    <tr>\n",
       "      <th>4</th>\n",
       "      <td>Jupiter</td>\n",
       "      <td>1898.0000</td>\n",
       "      <td>142984</td>\n",
       "      <td>The largest and most massive of the planets wa...</td>\n",
       "      <td>https://en.wikipedia.org/wiki/Jupiter</td>\n",
       "    </tr>\n",
       "    <tr>\n",
       "      <th>5</th>\n",
       "      <td>Saturn</td>\n",
       "      <td>568.0000</td>\n",
       "      <td>120536</td>\n",
       "      <td>Roman name for the Greek Cronos, father of Zeu...</td>\n",
       "      <td>https://en.wikipedia.org/wiki/Saturn</td>\n",
       "    </tr>\n",
       "    <tr>\n",
       "      <th>6</th>\n",
       "      <td>Uranus</td>\n",
       "      <td>86.8000</td>\n",
       "      <td>51118</td>\n",
       "      <td>Several astronomers, including Flamsteed and L...</td>\n",
       "      <td>https://en.wikipedia.org/wiki/Uranus</td>\n",
       "    </tr>\n",
       "    <tr>\n",
       "      <th>7</th>\n",
       "      <td>Neptune</td>\n",
       "      <td>102.0000</td>\n",
       "      <td>49528</td>\n",
       "      <td>Neptune was \"predicted\" by John Couch Adams an...</td>\n",
       "      <td>https://en.wikipedia.org/wiki/Neptune</td>\n",
       "    </tr>\n",
       "    <tr>\n",
       "      <th>8</th>\n",
       "      <td>Pluto</td>\n",
       "      <td>0.0146</td>\n",
       "      <td>2370</td>\n",
       "      <td>Pluto was discovered at Lowell Observatory in ...</td>\n",
       "      <td>https://en.wikipedia.org/wiki/Pluto</td>\n",
       "    </tr>\n",
       "  </tbody>\n",
       "</table>\n",
       "</div>"
      ],
      "text/plain": [
       "      Name       Mass  Radius  \\\n",
       "0  Mercury     0.3300    4879   \n",
       "1    Venus     4.8700   12104   \n",
       "2    Earth     5.9700   12756   \n",
       "3     Mars     0.6420    6792   \n",
       "4  Jupiter  1898.0000  142984   \n",
       "5   Saturn   568.0000  120536   \n",
       "6   Uranus    86.8000   51118   \n",
       "7  Neptune   102.0000   49528   \n",
       "8    Pluto     0.0146    2370   \n",
       "\n",
       "                                         Description  \\\n",
       "0  Named Mercurius by the Romans because it appea...   \n",
       "1  Roman name for the goddess of love. This plane...   \n",
       "2  The name Earth comes from the Indo-European ba...   \n",
       "3  Named by the Romans for their god of war becau...   \n",
       "4  The largest and most massive of the planets wa...   \n",
       "5  Roman name for the Greek Cronos, father of Zeu...   \n",
       "6  Several astronomers, including Flamsteed and L...   \n",
       "7  Neptune was \"predicted\" by John Couch Adams an...   \n",
       "8  Pluto was discovered at Lowell Observatory in ...   \n",
       "\n",
       "                                         MoreInfo  \n",
       "0  https://en.wikipedia.org/wiki/Mercury_(planet)  \n",
       "1             https://en.wikipedia.org/wiki/Venus  \n",
       "2             https://en.wikipedia.org/wiki/Earth  \n",
       "3              https://en.wikipedia.org/wiki/Mars  \n",
       "4           https://en.wikipedia.org/wiki/Jupiter  \n",
       "5            https://en.wikipedia.org/wiki/Saturn  \n",
       "6            https://en.wikipedia.org/wiki/Uranus  \n",
       "7           https://en.wikipedia.org/wiki/Neptune  \n",
       "8             https://en.wikipedia.org/wiki/Pluto  "
      ]
     },
     "execution_count": 27,
     "metadata": {},
     "output_type": "execute_result"
    }
   ],
   "source": [
    "planets_df"
   ]
  },
  {
   "cell_type": "code",
   "execution_count": 24,
   "metadata": {},
   "outputs": [
    {
     "name": "stdout",
     "output_type": "stream",
     "text": [
      "Named Mercurius by the Romans because it appears to move so swiftly.\n",
      " \n",
      " \n",
      "Roman name for the goddess of love. This planet was considered to be the brightest and most beautiful planet or star in the\r\n",
      "                    heavens. Other civilizations have named it for their god or goddess of love/war.\n",
      " \n",
      " \n",
      "The name Earth comes from the Indo-European base 'er,'which produced the Germanic noun 'ertho,' and ultimately German 'erde,'\r\n",
      "                    Dutch 'aarde,' Scandinavian 'jord,' and English 'earth.' Related forms include Greek 'eraze,' meaning\r\n",
      "                    'on the ground,' and Welsh 'erw,' meaning 'a piece of land.'\n",
      " \n",
      " \n",
      "Named by the Romans for their god of war because of its red, bloodlike color. Other civilizations also named this planet\r\n",
      "                    from this attribute; for example, the Egyptians named it \"Her Desher,\" meaning \"the red one.\"\n",
      " \n",
      " \n",
      "The largest and most massive of the planets was named Zeus by the Greeks and Jupiter by the Romans; he was\r\n",
      "                    the most important deity in both pantheons.\n",
      " \n",
      " \n",
      "Roman name for the Greek Cronos, father of Zeus/Jupiter. Other civilizations have given different names to Saturn, which\r\n",
      "                    is the farthest planet from Earth that can be observed by the naked human eye. Most of its satellites\r\n",
      "                    were named for Titans who, according to Greek mythology, were brothers and sisters of Saturn.\n",
      " \n",
      " \n",
      "Several astronomers, including Flamsteed and Le Monnier, had observed Uranus earlier but had recorded it as a fixed star.\r\n",
      "                    Herschel tried unsuccessfully to name his discovery \"Georgian Sidus\" after George III; the planet was\r\n",
      "                    named by Johann Bode in 1781 after the ancient Greek deity of the sky Uranus, the father of Kronos (Saturn)\r\n",
      "                    and grandfather of Zeus (Jupiter).\n",
      " \n",
      " \n",
      "Neptune was \"predicted\" by John Couch Adams and Urbain Le Verrier who, independently, were able to account for the irregularities\r\n",
      "                    in the motion of Uranus by correctly predicting the orbital elements of a trans- Uranian body. Using\r\n",
      "                    the predicted parameters of Le Verrier (Adams never published his predictions), Johann Galle observed\r\n",
      "                    the planet in 1846. Galle wanted to name the planet for Le Verrier, but that was not acceptable to the\r\n",
      "                    international astronomical community. Instead, this planet is named for the Roman god of the sea.\n",
      " \n",
      " \n",
      "Pluto was discovered at Lowell Observatory in Flagstaff, AZ during a systematic search for a trans-Neptune planet predicted\r\n",
      "                    by Percival Lowell and William H. Pickering. Named after the Roman god of the underworld who was able\r\n",
      "                    to render himself invisible.\n",
      " \n",
      " \n"
     ]
    }
   ],
   "source": [
    "for name_origin in planets_df.Description:\n",
    "    print(name_origin, end='\\n \\n \\n')"
   ]
  },
  {
   "cell_type": "code",
   "execution_count": 81,
   "metadata": {},
   "outputs": [],
   "source": [
    "planets_df.to_csv('planets_scrape.csv')"
   ]
  },
  {
   "cell_type": "markdown",
   "metadata": {},
   "source": [
    "# json data"
   ]
  },
  {
   "cell_type": "code",
   "execution_count": 76,
   "metadata": {},
   "outputs": [],
   "source": [
    "import json\n",
    "import  pprint\n",
    "pp = pprint.PrettyPrinter(indent=4)\n",
    "\n",
    "# Import get_planet_data() funtion from get_planet_data.py file\n",
    "from get_planet_data import get_planet_data"
   ]
  },
  {
   "cell_type": "code",
   "execution_count": 89,
   "metadata": {
    "scrolled": true
   },
   "outputs": [],
   "source": [
    "planets = get_planet_data()\n"
   ]
  },
  {
   "cell_type": "code",
   "execution_count": 90,
   "metadata": {},
   "outputs": [
    {
     "name": "stdout",
     "output_type": "stream",
     "text": [
      "[   {   'Description': 'Named Mercurius by the Romans because it appears to '\n",
      "                       'move so swiftly.',\n",
      "        'Mass': '0.330',\n",
      "        'MoreInfo': 'https://en.wikipedia.org/wiki/Mercury_(planet)',\n",
      "        'Name': 'Mercury',\n",
      "        'Radius': '4879'},\n",
      "    {   'Description': 'Roman name for the goddess of love. This planet was '\n",
      "                       'considered to be the brightest and most beautiful '\n",
      "                       'planet or star in the\\r\\n'\n",
      "                       '                    heavens. Other civilizations have '\n",
      "                       'named it for their god or goddess of love/war.',\n",
      "        'Mass': '4.87',\n",
      "        'MoreInfo': 'https://en.wikipedia.org/wiki/Venus',\n",
      "        'Name': 'Venus',\n",
      "        'Radius': '12104'},\n",
      "    {   'Description': 'The name Earth comes from the Indo-European base '\n",
      "                       \"'er,'which produced the Germanic noun 'ertho,' and \"\n",
      "                       \"ultimately German 'erde,'\\r\\n\"\n",
      "                       \"                    Dutch 'aarde,' Scandinavian \"\n",
      "                       \"'jord,' and English 'earth.' Related forms include \"\n",
      "                       \"Greek 'eraze,' meaning\\r\\n\"\n",
      "                       \"                    'on the ground,' and Welsh 'erw,' \"\n",
      "                       \"meaning 'a piece of land.'\",\n",
      "        'Mass': '5.97',\n",
      "        'MoreInfo': 'https://en.wikipedia.org/wiki/Earth',\n",
      "        'Name': 'Earth',\n",
      "        'Radius': '12756'},\n",
      "    {   'Description': 'Named by the Romans for their god of war because of '\n",
      "                       'its red, bloodlike color. Other civilizations also '\n",
      "                       'named this planet\\r\\n'\n",
      "                       '                    from this attribute; for example, '\n",
      "                       'the Egyptians named it \"Her Desher,\" meaning \"the red '\n",
      "                       'one.\"',\n",
      "        'Mass': '0.642',\n",
      "        'MoreInfo': 'https://en.wikipedia.org/wiki/Mars',\n",
      "        'Name': 'Mars',\n",
      "        'Radius': '6792'},\n",
      "    {   'Description': 'The largest and most massive of the planets was named '\n",
      "                       'Zeus by the Greeks and Jupiter by the Romans; he '\n",
      "                       'was\\r\\n'\n",
      "                       '                    the most important deity in both '\n",
      "                       'pantheons.',\n",
      "        'Mass': '1898',\n",
      "        'MoreInfo': 'https://en.wikipedia.org/wiki/Jupiter',\n",
      "        'Name': 'Jupiter',\n",
      "        'Radius': '142984'},\n",
      "    {   'Description': 'Roman name for the Greek Cronos, father of '\n",
      "                       'Zeus/Jupiter. Other civilizations have given different '\n",
      "                       'names to Saturn, which\\r\\n'\n",
      "                       '                    is the farthest planet from Earth '\n",
      "                       'that can be observed by the naked human eye. Most of '\n",
      "                       'its satellites\\r\\n'\n",
      "                       '                    were named for Titans who, '\n",
      "                       'according to Greek mythology, were brothers and '\n",
      "                       'sisters of Saturn.',\n",
      "        'Mass': '568',\n",
      "        'MoreInfo': 'https://en.wikipedia.org/wiki/Saturn',\n",
      "        'Name': 'Saturn',\n",
      "        'Radius': '120536'},\n",
      "    {   'Description': 'Several astronomers, including Flamsteed and Le '\n",
      "                       'Monnier, had observed Uranus earlier but had recorded '\n",
      "                       'it as a fixed star.\\r\\n'\n",
      "                       '                    Herschel tried unsuccessfully to '\n",
      "                       'name his discovery \"Georgian Sidus\" after George III; '\n",
      "                       'the planet was\\r\\n'\n",
      "                       '                    named by Johann Bode in 1781 after '\n",
      "                       'the ancient Greek deity of the sky Uranus, the father '\n",
      "                       'of Kronos (Saturn)\\r\\n'\n",
      "                       '                    and grandfather of Zeus (Jupiter).',\n",
      "        'Mass': '86.8',\n",
      "        'MoreInfo': 'https://en.wikipedia.org/wiki/Uranus',\n",
      "        'Name': 'Uranus',\n",
      "        'Radius': '51118'},\n",
      "    {   'Description': 'Neptune was \"predicted\" by John Couch Adams and Urbain '\n",
      "                       'Le Verrier who, independently, were able to account '\n",
      "                       'for the irregularities\\r\\n'\n",
      "                       '                    in the motion of Uranus by '\n",
      "                       'correctly predicting the orbital elements of a trans- '\n",
      "                       'Uranian body. Using\\r\\n'\n",
      "                       '                    the predicted parameters of Le '\n",
      "                       'Verrier (Adams never published his predictions), '\n",
      "                       'Johann Galle observed\\r\\n'\n",
      "                       '                    the planet in 1846. Galle wanted '\n",
      "                       'to name the planet for Le Verrier, but that was not '\n",
      "                       'acceptable to the\\r\\n'\n",
      "                       '                    international astronomical '\n",
      "                       'community. Instead, this planet is named for the Roman '\n",
      "                       'god of the sea.',\n",
      "        'Mass': '102',\n",
      "        'MoreInfo': 'https://en.wikipedia.org/wiki/Neptune',\n",
      "        'Name': 'Neptune',\n",
      "        'Radius': '49528'},\n",
      "    {   'Description': 'Pluto was discovered at Lowell Observatory in '\n",
      "                       'Flagstaff, AZ during a systematic search for a '\n",
      "                       'trans-Neptune planet predicted\\r\\n'\n",
      "                       '                    by Percival Lowell and William H. '\n",
      "                       'Pickering. Named after the Roman god of the underworld '\n",
      "                       'who was able\\r\\n'\n",
      "                       '                    to render himself invisible.',\n",
      "        'Mass': '0.0146',\n",
      "        'MoreInfo': 'https://en.wikipedia.org/wiki/Pluto',\n",
      "        'Name': 'Pluto',\n",
      "        'Radius': '2370'}]\n"
     ]
    }
   ],
   "source": [
    "pp.pprint(planets)"
   ]
  },
  {
   "cell_type": "code",
   "execution_count": 95,
   "metadata": {},
   "outputs": [],
   "source": [
    "# Serializing json\n",
    "planets_json = json.dumps(planets, indent=4)\n",
    "\n",
    "# Writing to json\n",
    "with open(\"planets_scrape.json\",\"w\") as outfile:\n",
    "    outfile.write(planets_json) \n"
   ]
  },
  {
   "cell_type": "code",
   "execution_count": 92,
   "metadata": {},
   "outputs": [],
   "source": [
    "for p in planets:\n",
    "    p[\"Description\"] = p[\"Description\"].replace(\"\\r\\n                    \",\" \")"
   ]
  },
  {
   "cell_type": "code",
   "execution_count": 93,
   "metadata": {},
   "outputs": [
    {
     "data": {
      "text/plain": [
       "[{'Name': 'Mercury',\n",
       "  'Mass': '0.330',\n",
       "  'Radius': '4879',\n",
       "  'Description': 'Named Mercurius by the Romans because it appears to move so swiftly.',\n",
       "  'MoreInfo': 'https://en.wikipedia.org/wiki/Mercury_(planet)'},\n",
       " {'Name': 'Venus',\n",
       "  'Mass': '4.87',\n",
       "  'Radius': '12104',\n",
       "  'Description': 'Roman name for the goddess of love. This planet was considered to be the brightest and most beautiful planet or star in the heavens. Other civilizations have named it for their god or goddess of love/war.',\n",
       "  'MoreInfo': 'https://en.wikipedia.org/wiki/Venus'},\n",
       " {'Name': 'Earth',\n",
       "  'Mass': '5.97',\n",
       "  'Radius': '12756',\n",
       "  'Description': \"The name Earth comes from the Indo-European base 'er,'which produced the Germanic noun 'ertho,' and ultimately German 'erde,' Dutch 'aarde,' Scandinavian 'jord,' and English 'earth.' Related forms include Greek 'eraze,' meaning 'on the ground,' and Welsh 'erw,' meaning 'a piece of land.'\",\n",
       "  'MoreInfo': 'https://en.wikipedia.org/wiki/Earth'},\n",
       " {'Name': 'Mars',\n",
       "  'Mass': '0.642',\n",
       "  'Radius': '6792',\n",
       "  'Description': 'Named by the Romans for their god of war because of its red, bloodlike color. Other civilizations also named this planet from this attribute; for example, the Egyptians named it \"Her Desher,\" meaning \"the red one.\"',\n",
       "  'MoreInfo': 'https://en.wikipedia.org/wiki/Mars'},\n",
       " {'Name': 'Jupiter',\n",
       "  'Mass': '1898',\n",
       "  'Radius': '142984',\n",
       "  'Description': 'The largest and most massive of the planets was named Zeus by the Greeks and Jupiter by the Romans; he was the most important deity in both pantheons.',\n",
       "  'MoreInfo': 'https://en.wikipedia.org/wiki/Jupiter'},\n",
       " {'Name': 'Saturn',\n",
       "  'Mass': '568',\n",
       "  'Radius': '120536',\n",
       "  'Description': 'Roman name for the Greek Cronos, father of Zeus/Jupiter. Other civilizations have given different names to Saturn, which is the farthest planet from Earth that can be observed by the naked human eye. Most of its satellites were named for Titans who, according to Greek mythology, were brothers and sisters of Saturn.',\n",
       "  'MoreInfo': 'https://en.wikipedia.org/wiki/Saturn'},\n",
       " {'Name': 'Uranus',\n",
       "  'Mass': '86.8',\n",
       "  'Radius': '51118',\n",
       "  'Description': 'Several astronomers, including Flamsteed and Le Monnier, had observed Uranus earlier but had recorded it as a fixed star. Herschel tried unsuccessfully to name his discovery \"Georgian Sidus\" after George III; the planet was named by Johann Bode in 1781 after the ancient Greek deity of the sky Uranus, the father of Kronos (Saturn) and grandfather of Zeus (Jupiter).',\n",
       "  'MoreInfo': 'https://en.wikipedia.org/wiki/Uranus'},\n",
       " {'Name': 'Neptune',\n",
       "  'Mass': '102',\n",
       "  'Radius': '49528',\n",
       "  'Description': 'Neptune was \"predicted\" by John Couch Adams and Urbain Le Verrier who, independently, were able to account for the irregularities in the motion of Uranus by correctly predicting the orbital elements of a trans- Uranian body. Using the predicted parameters of Le Verrier (Adams never published his predictions), Johann Galle observed the planet in 1846. Galle wanted to name the planet for Le Verrier, but that was not acceptable to the international astronomical community. Instead, this planet is named for the Roman god of the sea.',\n",
       "  'MoreInfo': 'https://en.wikipedia.org/wiki/Neptune'},\n",
       " {'Name': 'Pluto',\n",
       "  'Mass': '0.0146',\n",
       "  'Radius': '2370',\n",
       "  'Description': 'Pluto was discovered at Lowell Observatory in Flagstaff, AZ during a systematic search for a trans-Neptune planet predicted by Percival Lowell and William H. Pickering. Named after the Roman god of the underworld who was able to render himself invisible.',\n",
       "  'MoreInfo': 'https://en.wikipedia.org/wiki/Pluto'}]"
      ]
     },
     "execution_count": 93,
     "metadata": {},
     "output_type": "execute_result"
    }
   ],
   "source": [
    "planets"
   ]
  },
  {
   "cell_type": "code",
   "execution_count": 94,
   "metadata": {},
   "outputs": [
    {
     "data": {
      "text/plain": [
       "'Roman name for the goddess of love. This planet was considered to be the brightest and most beautiful planet or star in the heavens. Other civilizations have named it for their god or goddess of love/war.'"
      ]
     },
     "execution_count": 94,
     "metadata": {},
     "output_type": "execute_result"
    }
   ],
   "source": [
    "planets[1][\"Description\"]"
   ]
  },
  {
   "cell_type": "code",
   "execution_count": null,
   "metadata": {},
   "outputs": [],
   "source": []
  }
 ],
 "metadata": {
  "kernelspec": {
   "display_name": "Python 3",
   "language": "python",
   "name": "python3"
  },
  "language_info": {
   "codemirror_mode": {
    "name": "ipython",
    "version": 3
   },
   "file_extension": ".py",
   "mimetype": "text/x-python",
   "name": "python",
   "nbconvert_exporter": "python",
   "pygments_lexer": "ipython3",
   "version": "3.8.1"
  }
 },
 "nbformat": 4,
 "nbformat_minor": 4
}
