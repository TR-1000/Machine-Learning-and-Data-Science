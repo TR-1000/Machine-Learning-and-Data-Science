{
 "cells": [
  {
   "cell_type": "code",
   "execution_count": 1,
   "metadata": {},
   "outputs": [],
   "source": [
    "from bs4 import BeautifulSoup\n",
    "import requests\n",
    "import os"
   ]
  },
  {
   "cell_type": "code",
   "execution_count": 2,
   "metadata": {},
   "outputs": [],
   "source": [
    "import psycopg2 as pg2\n",
    "conn = pg2.connect(\"dbname='scraping' host='localhost' user='postgres'\")"
   ]
  },
  {
   "cell_type": "code",
   "execution_count": 3,
   "metadata": {},
   "outputs": [],
   "source": [
    "cur = conn.cursor()"
   ]
  },
  {
   "cell_type": "code",
   "execution_count": 4,
   "metadata": {},
   "outputs": [],
   "source": [
    "import boto3\n",
    "import botocore"
   ]
  },
  {
   "cell_type": "code",
   "execution_count": 6,
   "metadata": {},
   "outputs": [],
   "source": [
    "data = requests.get(\"http://localhost:8080/planets.html\").text"
   ]
  },
  {
   "cell_type": "code",
   "execution_count": 7,
   "metadata": {},
   "outputs": [],
   "source": [
    "# create S3 client, use environment variables for keys\n",
    "s3 = boto3.client('s3')"
   ]
  },
  {
   "cell_type": "code",
   "execution_count": 8,
   "metadata": {},
   "outputs": [],
   "source": [
    "bucket_name = \"planets-scrape\""
   ]
  },
  {
   "cell_type": "code",
   "execution_count": 10,
   "metadata": {},
   "outputs": [
    {
     "data": {
      "text/plain": [
       "{'ResponseMetadata': {'RequestId': 'B779BB623942E8E3',\n",
       "  'HostId': 'WX6PoLDzJPMOR+M/QECQ9RiFJXRg0NWO22IsFTjMKiCq7RKe7wgVpMXPBWZxUvu97xx3aV/7A3s=',\n",
       "  'HTTPStatusCode': 200,\n",
       "  'HTTPHeaders': {'x-amz-id-2': 'WX6PoLDzJPMOR+M/QECQ9RiFJXRg0NWO22IsFTjMKiCq7RKe7wgVpMXPBWZxUvu97xx3aV/7A3s=',\n",
       "   'x-amz-request-id': 'B779BB623942E8E3',\n",
       "   'date': 'Sat, 04 Apr 2020 02:17:49 GMT',\n",
       "   'etag': '\"707978f03ac7f7eb29167b64a6eea95f\"',\n",
       "   'content-length': '0',\n",
       "   'server': 'AmazonS3'},\n",
       "  'RetryAttempts': 0},\n",
       " 'ETag': '\"707978f03ac7f7eb29167b64a6eea95f\"'}"
      ]
     },
     "execution_count": 10,
     "metadata": {},
     "output_type": "execute_result"
    }
   ],
   "source": [
    "# create bucket, set\n",
    "s3.create_bucket(Bucket=bucket_name, ACL='public-read')\n",
    "s3.put_object(Bucket=bucket_name, Key='planet.html',\n",
    " Body=data, ACL=\"public-read\")\n"
   ]
  },
  {
   "cell_type": "code",
   "execution_count": 13,
   "metadata": {},
   "outputs": [
    {
     "data": {
      "text/plain": [
       "{'ResponseMetadata': {'RequestId': '224208B92A8996CB',\n",
       "  'HostId': 'QGkJPvJggJsnHTdNB58sg9lqlkvLdQqUeoQFmFOvgE5r+gM9I8NBFHmT3OVmTZsNeiY0XcOC4jY=',\n",
       "  'HTTPStatusCode': 200,\n",
       "  'HTTPHeaders': {'x-amz-id-2': 'QGkJPvJggJsnHTdNB58sg9lqlkvLdQqUeoQFmFOvgE5r+gM9I8NBFHmT3OVmTZsNeiY0XcOC4jY=',\n",
       "   'x-amz-request-id': '224208B92A8996CB',\n",
       "   'date': 'Sat, 04 Apr 2020 02:28:56 GMT',\n",
       "   'content-length': '0',\n",
       "   'server': 'AmazonS3'},\n",
       "  'RetryAttempts': 0}}"
      ]
     },
     "execution_count": 13,
     "metadata": {},
     "output_type": "execute_result"
    }
   ],
   "source": [
    "website_configuration = {\n",
    "    'ErrorDocument': {'Key': 'error.html'},\n",
    "    'IndexDocument': {'Suffix': 'index.html'},\n",
    "}\n",
    "\n",
    "# Set the website configuration\n",
    "s3 = boto3.client('s3')\n",
    "s3.put_bucket_website(Bucket=bucket_name,\n",
    "                      WebsiteConfiguration=website_configuration)"
   ]
  },
  {
   "cell_type": "code",
   "execution_count": null,
   "metadata": {},
   "outputs": [],
   "source": []
  }
 ],
 "metadata": {
  "kernelspec": {
   "display_name": "Python 3",
   "language": "python",
   "name": "python3"
  },
  "language_info": {
   "codemirror_mode": {
    "name": "ipython",
    "version": 3
   },
   "file_extension": ".py",
   "mimetype": "text/x-python",
   "name": "python",
   "nbconvert_exporter": "python",
   "pygments_lexer": "ipython3",
   "version": "3.8.1"
  }
 },
 "nbformat": 4,
 "nbformat_minor": 4
}
