{
 "cells": [
  {
   "cell_type": "code",
   "execution_count": 3,
   "metadata": {},
   "outputs": [],
   "source": [
    "import psycopg2 as pg2"
   ]
  },
  {
   "cell_type": "code",
   "execution_count": 4,
   "metadata": {},
   "outputs": [],
   "source": [
    "conn = pg2.connect(database='exercises',user='postgres')"
   ]
  },
  {
   "cell_type": "code",
   "execution_count": 5,
   "metadata": {},
   "outputs": [],
   "source": [
    "cursor = conn.cursor()"
   ]
  },
  {
   "cell_type": "code",
   "execution_count": 6,
   "metadata": {},
   "outputs": [],
   "source": [
    "query = '''\n",
    "        SELECT name, membercost\n",
    "        FROM cd.facilities;\n",
    "        '''"
   ]
  },
  {
   "cell_type": "code",
   "execution_count": 7,
   "metadata": {},
   "outputs": [],
   "source": [
    "cursor.execute(query)"
   ]
  },
  {
   "cell_type": "code",
   "execution_count": 8,
   "metadata": {},
   "outputs": [
    {
     "data": {
      "text/plain": [
       "[('Tennis Court 1', Decimal('5')),\n",
       " ('Tennis Court 2', Decimal('5')),\n",
       " ('Badminton Court', Decimal('0')),\n",
       " ('Table Tennis', Decimal('0')),\n",
       " ('Massage Room 1', Decimal('35')),\n",
       " ('Massage Room 2', Decimal('35')),\n",
       " ('Squash Court', Decimal('3.5')),\n",
       " ('Snooker Table', Decimal('0')),\n",
       " ('Pool Table', Decimal('0'))]"
      ]
     },
     "execution_count": 8,
     "metadata": {},
     "output_type": "execute_result"
    }
   ],
   "source": [
    "cursor.fetchall()"
   ]
  },
  {
   "cell_type": "markdown",
   "metadata": {},
   "source": [
    "<ol>\n",
    "    <li>How can you retrieve all the information from the cd.facilities table?</li>\n",
    "    <li>You want to print out a list of all of the facilities and their cost to members. How would you retrieve a list of only facility names and costs?</li>\n",
    "    <li>How can you produce a list of facilities that charge a fee to members?</li>\n",
    "    <li>How can you produce a list of facilities that charge a fee to members, and that fee is less than 1/50th of the monthly maintenance cost? Return the facid, facility name, member cost, and monthly maintenance of the facilities in question.</li><li>How can you produce a list of all facilities with the word 'Tennis' in their name?</li>\n",
    "    <li>How can you retrieve the details of facilities with ID 1 and 5? Try to do it without using the&nbsp;OR&nbsp;operator.</li>\n",
    "    <li>How can you produce a list of members who joined after the start of September 2012? Return the memid, surname, firstname, and joindate of the members in question.</li>\n",
    "    <li>How can you produce an ordered list of the first 10 surnames in the members table? The list must not contain duplicates.</li>\n",
    "    <li>You'd like to get the signup date of your last member. How can you retrieve this information?</li>\n",
    "    <li>Produce a count of the number of facilities that have a cost to guests of 10 or more.</li>\n",
    "    <li>Skip this one, no question for #11.</li>\n",
    "    <li>Produce a list of the total number of slots booked per facility in the month of September 2012. Produce an output table consisting of facility id and slots, sorted by the number of slots.</li>\n",
    "    <li>Produce a list of facilities with more than 1000 slots booked. Produce an output table consisting of facility id and total slots, sorted by facility id.</li>\n",
    "    <li>How can you produce a list of the start times for bookings for tennis courts, for the date '2012-09-21'? Return a list of start time and facility name pairings, ordered by the time.</li>\n",
    "    <li>How can you produce a list of the start times for bookings by members named 'David Farrell'?</li>\n",
    "</ol>"
   ]
  },
  {
   "cell_type": "markdown",
   "metadata": {},
   "source": [
    "1. \n",
    "`SELECT * FROM cd.facilities;`\n",
    "\n",
    "\n",
    "2. \n",
    "`SELECT name, membercost\n",
    "FROM cd.facilities;`\n",
    "\n",
    "\n",
    "3. \n",
    "`SELECT facid, name, membercost, monthlymaintenance\n",
    "FROM cd.facilities\n",
    "WHERE membercost > 0;`\n",
    "\n",
    "\n",
    "4. \n",
    "`SELECT facid, name, membercost, monthlymaintenance \n",
    "FROM cd.facilities\n",
    "WHERE (membercost > 0) AND (membercost < monthlymaintenance / 50);`\n",
    "\n",
    "\n",
    "5. \n",
    "`SELECT name FROM cd.facilities\n",
    "WHERE name LIKE 'Tennis%';`\n",
    "\n",
    "\n",
    "6. \n",
    "`SELECT *\n",
    "FROM cd.facilities\n",
    "WHERE facid IN (1,5);`\n",
    "\n",
    "\n",
    "7. \n",
    "`SELECT memid, surname, firstname, joindate\n",
    "FROM cd.members\n",
    "WHERE joindate > '2012-09-01';`\n",
    "\n",
    "\n",
    "8. \n",
    "`SELECT surname\n",
    "FROM cd.members\n",
    "GROUP BY surname\n",
    "ORDER BY surname\n",
    "LIMIT 10`\n",
    "\n",
    "\n",
    "9. \n",
    "`SELECT joindate\n",
    "FROM cd.members\n",
    "ORDER BY joindate DESC\n",
    "LIMIT 1`\n",
    "\n",
    "\n",
    "10. \n",
    "`SELECT COUNT(*) number_of_facilities_that_cost_more_than_10\n",
    "FROM cd.facilities\n",
    "WHERE guestcost >= 10`\n",
    "\n",
    "\n",
    "12. \n",
    "`SELECT facid, COUNT(slots)\n",
    "FROM cd.bookings\n",
    "WHERE extract(month from starttime) = 9\n",
    "GROUP BY facid\n",
    "ORDER BY COUNT(slots)`\n",
    "\n",
    "\n",
    "13. \n",
    "`SELECT facid, COUNT(slots)\n",
    "FROM cd.bookings\n",
    "GROUP BY facid\n",
    "HAVING COUNT(slots) > 1000`\n",
    "\n",
    "\n",
    "\n",
    "\n",
    "\n",
    "15. \n",
    "`SELECT starttime, name\n",
    "FROM cd.facilities\n",
    "JOIN cd.bookings\n",
    "ON cd.facilities.facid = cd.bookings.facid\n",
    "WHERE name LIKE 'Tennis%' AND date_trunc('day',starttime) = '2012-09-21'\n",
    "SELECT memid, starttime\n",
    "FROM cd.bookings\n",
    "WHERE memid IN (SELECT cd.members.memid\n",
    "FROM cd.members\n",
    "JOIN cd.bookings\n",
    "ON cd.members.memid = cd.bookings.memid\n",
    "WHERE firstname = 'David' AND surname = 'Farrell')`\n"
   ]
  },
  {
   "cell_type": "code",
   "execution_count": null,
   "metadata": {},
   "outputs": [],
   "source": [
    "\n"
   ]
  },
  {
   "cell_type": "code",
   "execution_count": null,
   "metadata": {},
   "outputs": [],
   "source": []
  }
 ],
 "metadata": {
  "kernelspec": {
   "display_name": "Python 3",
   "language": "python",
   "name": "python3"
  },
  "language_info": {
   "codemirror_mode": {
    "name": "ipython",
    "version": 3
   },
   "file_extension": ".py",
   "mimetype": "text/x-python",
   "name": "python",
   "nbconvert_exporter": "python",
   "pygments_lexer": "ipython3",
   "version": "3.8.1"
  }
 },
 "nbformat": 4,
 "nbformat_minor": 4
}
