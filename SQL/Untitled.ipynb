{
 "cells": [
  {
   "cell_type": "code",
   "execution_count": 1,
   "metadata": {},
   "outputs": [],
   "source": [
    "import psycopg2 as pg2"
   ]
  },
  {
   "cell_type": "code",
   "execution_count": 2,
   "metadata": {},
   "outputs": [],
   "source": [
    "conn = pg2.connect(database='exercises',user='postgres')"
   ]
  },
  {
   "cell_type": "code",
   "execution_count": 3,
   "metadata": {},
   "outputs": [],
   "source": [
    "cursor = conn.cursor()"
   ]
  },
  {
   "cell_type": "code",
   "execution_count": 4,
   "metadata": {},
   "outputs": [],
   "source": [
    "query = '''\n",
    "        SELECT * FROM cd.facilities;\n",
    "        '''"
   ]
  },
  {
   "cell_type": "code",
   "execution_count": 9,
   "metadata": {},
   "outputs": [],
   "source": [
    "cursor.execute(query)"
   ]
  },
  {
   "cell_type": "code",
   "execution_count": 8,
   "metadata": {},
   "outputs": [
    {
     "data": {
      "text/plain": [
       "[(0,\n",
       "  'Tennis Court 1',\n",
       "  Decimal('5'),\n",
       "  Decimal('25'),\n",
       "  Decimal('10000'),\n",
       "  Decimal('200')),\n",
       " (1,\n",
       "  'Tennis Court 2',\n",
       "  Decimal('5'),\n",
       "  Decimal('25'),\n",
       "  Decimal('8000'),\n",
       "  Decimal('200')),\n",
       " (2,\n",
       "  'Badminton Court',\n",
       "  Decimal('0'),\n",
       "  Decimal('15.5'),\n",
       "  Decimal('4000'),\n",
       "  Decimal('50')),\n",
       " (3,\n",
       "  'Table Tennis',\n",
       "  Decimal('0'),\n",
       "  Decimal('5'),\n",
       "  Decimal('320'),\n",
       "  Decimal('10')),\n",
       " (4,\n",
       "  'Massage Room 1',\n",
       "  Decimal('35'),\n",
       "  Decimal('80'),\n",
       "  Decimal('4000'),\n",
       "  Decimal('3000')),\n",
       " (5,\n",
       "  'Massage Room 2',\n",
       "  Decimal('35'),\n",
       "  Decimal('80'),\n",
       "  Decimal('4000'),\n",
       "  Decimal('3000')),\n",
       " (6,\n",
       "  'Squash Court',\n",
       "  Decimal('3.5'),\n",
       "  Decimal('17.5'),\n",
       "  Decimal('5000'),\n",
       "  Decimal('80')),\n",
       " (7,\n",
       "  'Snooker Table',\n",
       "  Decimal('0'),\n",
       "  Decimal('5'),\n",
       "  Decimal('450'),\n",
       "  Decimal('15')),\n",
       " (8, 'Pool Table', Decimal('0'), Decimal('5'), Decimal('400'), Decimal('15'))]"
      ]
     },
     "execution_count": 8,
     "metadata": {},
     "output_type": "execute_result"
    }
   ],
   "source": [
    "cursor.fetchall()"
   ]
  },
  {
   "cell_type": "code",
   "execution_count": null,
   "metadata": {},
   "outputs": [],
   "source": []
  }
 ],
 "metadata": {
  "kernelspec": {
   "display_name": "Python 3",
   "language": "python",
   "name": "python3"
  },
  "language_info": {
   "codemirror_mode": {
    "name": "ipython",
    "version": 3
   },
   "file_extension": ".py",
   "mimetype": "text/x-python",
   "name": "python",
   "nbconvert_exporter": "python",
   "pygments_lexer": "ipython3",
   "version": "3.8.1"
  }
 },
 "nbformat": 4,
 "nbformat_minor": 4
}
