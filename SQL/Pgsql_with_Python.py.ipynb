{
 "cells": [
  {
   "cell_type": "code",
   "execution_count": 1,
   "metadata": {},
   "outputs": [],
   "source": [
    "import psycopg2 as pg2"
   ]
  },
  {
   "cell_type": "code",
   "execution_count": 2,
   "metadata": {},
   "outputs": [],
   "source": [
    "conn = pg2.connect(database='dvdrental',user='postgres') # this user has no password"
   ]
  },
  {
   "cell_type": "code",
   "execution_count": 4,
   "metadata": {},
   "outputs": [],
   "source": [
    "cur = conn.cursor()"
   ]
  },
  {
   "cell_type": "code",
   "execution_count": 5,
   "metadata": {},
   "outputs": [],
   "source": [
    "cur.execute('SELECT * FROM payment')"
   ]
  },
  {
   "cell_type": "code",
   "execution_count": 10,
   "metadata": {},
   "outputs": [],
   "source": [
    "# fetchall()\n",
    "# fetchmany()\n",
    "# fetchone()\n",
    "\n",
    "data = cur.fetchmany(10)"
   ]
  },
  {
   "cell_type": "code",
   "execution_count": 12,
   "metadata": {},
   "outputs": [
    {
     "data": {
      "text/plain": [
       "[(17524,\n",
       "  345,\n",
       "  2,\n",
       "  1550,\n",
       "  Decimal('0.99'),\n",
       "  datetime.datetime(2007, 2, 16, 0, 27, 1, 996577)),\n",
       " (17525,\n",
       "  345,\n",
       "  2,\n",
       "  2766,\n",
       "  Decimal('4.99'),\n",
       "  datetime.datetime(2007, 2, 19, 16, 13, 41, 996577)),\n",
       " (17526,\n",
       "  346,\n",
       "  1,\n",
       "  1994,\n",
       "  Decimal('5.99'),\n",
       "  datetime.datetime(2007, 2, 17, 9, 35, 32, 996577)),\n",
       " (17527,\n",
       "  346,\n",
       "  2,\n",
       "  3372,\n",
       "  Decimal('2.99'),\n",
       "  datetime.datetime(2007, 2, 21, 12, 2, 45, 996577)),\n",
       " (17528,\n",
       "  346,\n",
       "  1,\n",
       "  3421,\n",
       "  Decimal('2.99'),\n",
       "  datetime.datetime(2007, 2, 21, 15, 51, 24, 996577))]"
      ]
     },
     "execution_count": 12,
     "metadata": {},
     "output_type": "execute_result"
    }
   ],
   "source": [
    "data[:5]"
   ]
  },
  {
   "cell_type": "code",
   "execution_count": 13,
   "metadata": {},
   "outputs": [
    {
     "data": {
      "text/plain": [
       "(17524,\n",
       " 345,\n",
       " 2,\n",
       " 1550,\n",
       " Decimal('0.99'),\n",
       " datetime.datetime(2007, 2, 16, 0, 27, 1, 996577))"
      ]
     },
     "execution_count": 13,
     "metadata": {},
     "output_type": "execute_result"
    }
   ],
   "source": [
    "data[0]"
   ]
  },
  {
   "cell_type": "code",
   "execution_count": 16,
   "metadata": {},
   "outputs": [
    {
     "name": "stdout",
     "output_type": "stream",
     "text": [
      "17524\n",
      "345\n",
      "2\n",
      "1550\n",
      "0.99\n",
      "2007-02-16 00:27:01.996577\n"
     ]
    }
   ],
   "source": [
    "for dat in data[0]:\n",
    "    print(dat)"
   ]
  },
  {
   "cell_type": "code",
   "execution_count": null,
   "metadata": {},
   "outputs": [],
   "source": []
  }
 ],
 "metadata": {
  "kernelspec": {
   "display_name": "Python 3",
   "language": "python",
   "name": "python3"
  },
  "language_info": {
   "codemirror_mode": {
    "name": "ipython",
    "version": 3
   },
   "file_extension": ".py",
   "mimetype": "text/x-python",
   "name": "python",
   "nbconvert_exporter": "python",
   "pygments_lexer": "ipython3",
   "version": "3.8.1"
  }
 },
 "nbformat": 4,
 "nbformat_minor": 2
}
