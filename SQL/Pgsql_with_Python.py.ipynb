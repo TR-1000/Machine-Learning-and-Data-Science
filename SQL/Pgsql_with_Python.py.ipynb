{
 "cells": [
  {
   "cell_type": "code",
   "execution_count": 1,
   "metadata": {},
   "outputs": [],
   "source": [
    "import psycopg2 as pg2"
   ]
  },
  {
   "cell_type": "code",
   "execution_count": 2,
   "metadata": {},
   "outputs": [],
   "source": [
    "conn = pg2.connect(database='dvdrental',user='postgres') # this user has no password"
   ]
  },
  {
   "cell_type": "code",
   "execution_count": 3,
   "metadata": {},
   "outputs": [],
   "source": [
    "cur = conn.cursor()"
   ]
  },
  {
   "cell_type": "code",
   "execution_count": 4,
   "metadata": {},
   "outputs": [],
   "source": [
    "cur.execute('SELECT * FROM payment')"
   ]
  },
  {
   "cell_type": "code",
   "execution_count": 5,
   "metadata": {},
   "outputs": [],
   "source": [
    "# fetchall()\n",
    "# fetchmany()\n",
    "# fetchone()\n",
    "\n",
    "data = cur.fetchmany(10)"
   ]
  },
  {
   "cell_type": "code",
   "execution_count": 6,
   "metadata": {},
   "outputs": [
    {
     "data": {
      "text/plain": [
       "[(17503,\n",
       "  341,\n",
       "  2,\n",
       "  1520,\n",
       "  Decimal('7.99'),\n",
       "  datetime.datetime(2007, 2, 15, 22, 25, 46, 996577)),\n",
       " (17504,\n",
       "  341,\n",
       "  1,\n",
       "  1778,\n",
       "  Decimal('1.99'),\n",
       "  datetime.datetime(2007, 2, 16, 17, 23, 14, 996577)),\n",
       " (17505,\n",
       "  341,\n",
       "  1,\n",
       "  1849,\n",
       "  Decimal('7.99'),\n",
       "  datetime.datetime(2007, 2, 16, 22, 41, 45, 996577)),\n",
       " (17506,\n",
       "  341,\n",
       "  2,\n",
       "  2829,\n",
       "  Decimal('2.99'),\n",
       "  datetime.datetime(2007, 2, 19, 19, 39, 56, 996577)),\n",
       " (17507,\n",
       "  341,\n",
       "  2,\n",
       "  3130,\n",
       "  Decimal('7.99'),\n",
       "  datetime.datetime(2007, 2, 20, 17, 31, 48, 996577))]"
      ]
     },
     "execution_count": 6,
     "metadata": {},
     "output_type": "execute_result"
    }
   ],
   "source": [
    "data[:5]"
   ]
  },
  {
   "cell_type": "code",
   "execution_count": 7,
   "metadata": {},
   "outputs": [
    {
     "data": {
      "text/plain": [
       "(17503,\n",
       " 341,\n",
       " 2,\n",
       " 1520,\n",
       " Decimal('7.99'),\n",
       " datetime.datetime(2007, 2, 15, 22, 25, 46, 996577))"
      ]
     },
     "execution_count": 7,
     "metadata": {},
     "output_type": "execute_result"
    }
   ],
   "source": [
    "data[0]"
   ]
  },
  {
   "cell_type": "code",
   "execution_count": 8,
   "metadata": {},
   "outputs": [
    {
     "name": "stdout",
     "output_type": "stream",
     "text": [
      "17503\n",
      "341\n",
      "2\n",
      "1520\n",
      "7.99\n",
      "2007-02-15 22:25:46.996577\n"
     ]
    }
   ],
   "source": [
    "for dat in data[0]:\n",
    "    print(dat)"
   ]
  },
  {
   "cell_type": "markdown",
   "metadata": {},
   "source": [
    "## Investigating the Tables\n",
    "<br/>\n",
    "<div>\n",
    "<p>In every Postgres engine, there are a set of internal tables Postgres uses to manage its entire structure. These tables are located in the Postgres documentation as the groups <a target=\"_blank\" href=\"https://www.postgresql.org/docs/current/static/information-schema.html\">information_schema</a> and <a target=\"_blank\" href=\"https://www.postgresql.org/docs/current/static/catalogs-overview.html\">system catalogs</a>. These contain all the information about data, names of tables, and types stored in a Postgres database. For example, when we use the attribute, <code>cursor.description</code>, it is pulling information from the internal tables to display to the user.</p>\n",
    "<p>The team at HUD has not given us details about the structure of their database. To proceed, we need to create our own detailed description of what's included. The Postgres table that contains the list of all tables in the database is named <code>tables</code> and is located in the <code>information_schema</code>. From the <a target=\"_blank\" href=\"https://www.postgresql.org/docs/current/static/infoschema-tables.html\">documentation of the <code>information_schema.tables</code></a> we see that there are plenty of columns. Here are the first three:</p>\n",
    "<table>\n",
    "<tbody><tr>\n",
    "<th>Name</th>\n",
    "<th>Data Type</th>\n",
    "<th>Description</th>\n",
    "</tr>\n",
    "<tr>\n",
    "<td>table_catalog</td>\n",
    "<td>sql_identifier</td>\n",
    "<td>Name of the database that contains the table (always the current database)</td>\n",
    "</tr>\n",
    "<tr>\n",
    "<td>table_schema</td>\n",
    "<td>sql_identifier</td>\n",
    "<td>Name of the schema that contains the table</td>\n",
    "</tr>\n",
    "<tr>\n",
    "<td>table_name</td>\n",
    "<td>sql_identifier</td>\n",
    "<td>Name of the table</td>\n",
    "</tr>\n",
    "</tbody></table>\n",
    "<p>At this point, we are only concerned with the names of the tables that are in the database. Taking a look at the table description above, there is a column named <code>table_name</code> that exposes this information. Let's query that column and see what we're dealing with.</p></div>"
   ]
  },
  {
   "cell_type": "markdown",
   "metadata": {},
   "source": [
    "<div class=\"ScrollAccordion__section\">\n",
    "<ol>\n",
    "<li>Perform a <code>SELECT</code> query on the <code>information_schema.tables</code> table that:<ul>\n",
    "<li>Selects the <code>table_name</code> column</li>\n",
    "<li>Orders the results by <code>table_name</code> using the <code>ORDER BY</code> option.</li>\n",
    "</ul>\n",
    "</li>\n",
    "<li>Use the <code>cursor.fetchall()</code> method to obtain all result from the query and assign them to the variable named <code>table_names</code>.</li>\n",
    "<li>Print the number of tables using the <code>len()</code> function on <code>table_names</code>.</li>\n",
    "<li>Loop through <code>table_names</code> and print the name of each table.</li>\n",
    "</ol></div><div class=\"MissionLearn__section\"></div>"
   ]
  },
  {
   "cell_type": "code",
   "execution_count": 9,
   "metadata": {},
   "outputs": [],
   "source": [
    "cur.execute(\"\"\"\n",
    "    SELECT table_name \n",
    "    FROM information_schema.tables\n",
    "    ORDER BY table_name\n",
    "\"\"\")"
   ]
  },
  {
   "cell_type": "code",
   "execution_count": 10,
   "metadata": {},
   "outputs": [],
   "source": [
    "table_names = cur.fetchall()"
   ]
  },
  {
   "cell_type": "code",
   "execution_count": 11,
   "metadata": {},
   "outputs": [
    {
     "name": "stdout",
     "output_type": "stream",
     "text": [
      "210\n"
     ]
    }
   ],
   "source": [
    "print(len(table_names))"
   ]
  },
  {
   "cell_type": "code",
   "execution_count": 12,
   "metadata": {},
   "outputs": [
    {
     "name": "stdout",
     "output_type": "stream",
     "text": [
      "('_pg_foreign_data_wrappers',)\n",
      "('_pg_foreign_servers',)\n",
      "('_pg_foreign_table_columns',)\n",
      "('_pg_foreign_tables',)\n",
      "('_pg_user_mappings',)\n",
      "('actor',)\n",
      "('actor_info',)\n",
      "('address',)\n",
      "('administrable_role_authorizations',)\n",
      "('applicable_roles',)\n",
      "('attributes',)\n",
      "('category',)\n",
      "('character_sets',)\n",
      "('check_constraint_routine_usage',)\n",
      "('check_constraints',)\n",
      "('city',)\n",
      "('collation_character_set_applicability',)\n",
      "('collations',)\n",
      "('column_domain_usage',)\n",
      "('column_options',)\n",
      "('column_privileges',)\n",
      "('column_udt_usage',)\n",
      "('columns',)\n",
      "('constraint_column_usage',)\n",
      "('constraint_table_usage',)\n",
      "('country',)\n",
      "('customer',)\n",
      "('customer_list',)\n",
      "('data_type_privileges',)\n",
      "('domain_constraints',)\n",
      "('domain_udt_usage',)\n",
      "('domains',)\n",
      "('element_types',)\n",
      "('enabled_roles',)\n",
      "('film',)\n",
      "('film_actor',)\n",
      "('film_category',)\n",
      "('film_list',)\n",
      "('foreign_data_wrapper_options',)\n",
      "('foreign_data_wrappers',)\n",
      "('foreign_server_options',)\n",
      "('foreign_servers',)\n",
      "('foreign_table_options',)\n",
      "('foreign_tables',)\n",
      "('information_schema_catalog_name',)\n",
      "('inventory',)\n",
      "('key_column_usage',)\n",
      "('language',)\n",
      "('nicer_but_slower_film_list',)\n",
      "('parameters',)\n",
      "('payment',)\n",
      "('pg_aggregate',)\n",
      "('pg_am',)\n",
      "('pg_amop',)\n",
      "('pg_amproc',)\n",
      "('pg_attrdef',)\n",
      "('pg_attribute',)\n",
      "('pg_auth_members',)\n",
      "('pg_authid',)\n",
      "('pg_available_extension_versions',)\n",
      "('pg_available_extensions',)\n",
      "('pg_cast',)\n",
      "('pg_class',)\n",
      "('pg_collation',)\n",
      "('pg_config',)\n",
      "('pg_constraint',)\n",
      "('pg_conversion',)\n",
      "('pg_cursors',)\n",
      "('pg_database',)\n",
      "('pg_db_role_setting',)\n",
      "('pg_default_acl',)\n",
      "('pg_depend',)\n",
      "('pg_description',)\n",
      "('pg_enum',)\n",
      "('pg_event_trigger',)\n",
      "('pg_extension',)\n",
      "('pg_file_settings',)\n",
      "('pg_foreign_data_wrapper',)\n",
      "('pg_foreign_server',)\n",
      "('pg_foreign_table',)\n",
      "('pg_group',)\n",
      "('pg_hba_file_rules',)\n",
      "('pg_index',)\n",
      "('pg_indexes',)\n",
      "('pg_inherits',)\n",
      "('pg_init_privs',)\n",
      "('pg_language',)\n",
      "('pg_largeobject',)\n",
      "('pg_largeobject_metadata',)\n",
      "('pg_locks',)\n",
      "('pg_matviews',)\n",
      "('pg_namespace',)\n",
      "('pg_opclass',)\n",
      "('pg_operator',)\n",
      "('pg_opfamily',)\n",
      "('pg_partitioned_table',)\n",
      "('pg_pltemplate',)\n",
      "('pg_policies',)\n",
      "('pg_policy',)\n",
      "('pg_prepared_statements',)\n",
      "('pg_prepared_xacts',)\n",
      "('pg_proc',)\n",
      "('pg_publication',)\n",
      "('pg_publication_rel',)\n",
      "('pg_publication_tables',)\n",
      "('pg_range',)\n",
      "('pg_replication_origin',)\n",
      "('pg_replication_origin_status',)\n",
      "('pg_replication_slots',)\n",
      "('pg_rewrite',)\n",
      "('pg_roles',)\n",
      "('pg_rules',)\n",
      "('pg_seclabel',)\n",
      "('pg_seclabels',)\n",
      "('pg_sequence',)\n",
      "('pg_sequences',)\n",
      "('pg_settings',)\n",
      "('pg_shadow',)\n",
      "('pg_shdepend',)\n",
      "('pg_shdescription',)\n",
      "('pg_shseclabel',)\n",
      "('pg_stat_activity',)\n",
      "('pg_stat_all_indexes',)\n",
      "('pg_stat_all_tables',)\n",
      "('pg_stat_archiver',)\n",
      "('pg_stat_bgwriter',)\n",
      "('pg_stat_database',)\n",
      "('pg_stat_database_conflicts',)\n",
      "('pg_stat_progress_vacuum',)\n",
      "('pg_stat_replication',)\n",
      "('pg_stat_ssl',)\n",
      "('pg_stat_subscription',)\n",
      "('pg_stat_sys_indexes',)\n",
      "('pg_stat_sys_tables',)\n",
      "('pg_stat_user_functions',)\n",
      "('pg_stat_user_indexes',)\n",
      "('pg_stat_user_tables',)\n",
      "('pg_stat_wal_receiver',)\n",
      "('pg_stat_xact_all_tables',)\n",
      "('pg_stat_xact_sys_tables',)\n",
      "('pg_stat_xact_user_functions',)\n",
      "('pg_stat_xact_user_tables',)\n",
      "('pg_statio_all_indexes',)\n",
      "('pg_statio_all_sequences',)\n",
      "('pg_statio_all_tables',)\n",
      "('pg_statio_sys_indexes',)\n",
      "('pg_statio_sys_sequences',)\n",
      "('pg_statio_sys_tables',)\n",
      "('pg_statio_user_indexes',)\n",
      "('pg_statio_user_sequences',)\n",
      "('pg_statio_user_tables',)\n",
      "('pg_statistic',)\n",
      "('pg_statistic_ext',)\n",
      "('pg_stats',)\n",
      "('pg_subscription',)\n",
      "('pg_subscription_rel',)\n",
      "('pg_tables',)\n",
      "('pg_tablespace',)\n",
      "('pg_timezone_abbrevs',)\n",
      "('pg_timezone_names',)\n",
      "('pg_transform',)\n",
      "('pg_trigger',)\n",
      "('pg_ts_config',)\n",
      "('pg_ts_config_map',)\n",
      "('pg_ts_dict',)\n",
      "('pg_ts_parser',)\n",
      "('pg_ts_template',)\n",
      "('pg_type',)\n",
      "('pg_user',)\n",
      "('pg_user_mapping',)\n",
      "('pg_user_mappings',)\n",
      "('pg_views',)\n",
      "('referential_constraints',)\n",
      "('rental',)\n",
      "('role_column_grants',)\n",
      "('role_routine_grants',)\n",
      "('role_table_grants',)\n",
      "('role_udt_grants',)\n",
      "('role_usage_grants',)\n",
      "('routine_privileges',)\n",
      "('routines',)\n",
      "('sales_by_film_category',)\n",
      "('sales_by_store',)\n",
      "('schemata',)\n",
      "('sequences',)\n",
      "('sql_features',)\n",
      "('sql_implementation_info',)\n",
      "('sql_languages',)\n",
      "('sql_packages',)\n",
      "('sql_parts',)\n",
      "('sql_sizing',)\n",
      "('sql_sizing_profiles',)\n",
      "('staff',)\n",
      "('staff_list',)\n",
      "('store',)\n",
      "('table_constraints',)\n",
      "('table_privileges',)\n",
      "('tables',)\n",
      "('transforms',)\n",
      "('triggered_update_columns',)\n",
      "('triggers',)\n",
      "('udt_privileges',)\n",
      "('usage_privileges',)\n",
      "('user_defined_types',)\n",
      "('user_mapping_options',)\n",
      "('user_mappings',)\n",
      "('view_column_usage',)\n",
      "('view_routine_usage',)\n",
      "('view_table_usage',)\n",
      "('views',)\n"
     ]
    }
   ],
   "source": [
    "for name in table_names:\n",
    "    print(name)"
   ]
  },
  {
   "cell_type": "markdown",
   "metadata": {},
   "source": [
    "## Working with Schemas"
   ]
  },
  {
   "cell_type": "markdown",
   "metadata": {},
   "source": [
    "<ol>\n",
    "<li>Perform a <code>SELECT</code> query on the <code>information_schema.tables</code> table that:<ul>\n",
    "<li>Selects the <code>table_name</code> column</li>\n",
    "<li>Use a <code>WHERE</code> statement to filter the query by selecting only rows where <code>table_schema</code> is equal to <code>public</code></li>\n",
    "<li>Orders the results by <code>table_name</code> using the <code>ORDER BY</code> option</li>\n",
    "</ul>\n",
    "</li>\n",
    "<li>Use the <code>cursor.fetchall()</code> method to obtain all result from the query. Assign them to the variable named <code>table_names</code>.</li>\n",
    "<li>Print the number of tables using the <code>len()</code> function on <code>table_names</code>.</li>\n",
    "<li>Loop through <code>table_names</code> and print the name of each table.</li>\n",
    "</ol>"
   ]
  },
  {
   "cell_type": "code",
   "execution_count": 13,
   "metadata": {},
   "outputs": [],
   "source": [
    "cur.execute(\"\"\"\n",
    "    SELECT table_name \n",
    "    FROM information_schema.tables\n",
    "    WHERE table_schema = 'public'\n",
    "    ORDER BY table_name\n",
    "\"\"\")"
   ]
  },
  {
   "cell_type": "code",
   "execution_count": 15,
   "metadata": {},
   "outputs": [
    {
     "name": "stdout",
     "output_type": "stream",
     "text": [
      "22\n"
     ]
    }
   ],
   "source": [
    "table_names = cur.fetchall()\n",
    "print(len(table_names))"
   ]
  },
  {
   "cell_type": "code",
   "execution_count": 16,
   "metadata": {},
   "outputs": [
    {
     "name": "stdout",
     "output_type": "stream",
     "text": [
      "('actor',)\n",
      "('actor_info',)\n",
      "('address',)\n",
      "('category',)\n",
      "('city',)\n",
      "('country',)\n",
      "('customer',)\n",
      "('customer_list',)\n",
      "('film',)\n",
      "('film_actor',)\n",
      "('film_category',)\n",
      "('film_list',)\n",
      "('inventory',)\n",
      "('language',)\n",
      "('nicer_but_slower_film_list',)\n",
      "('payment',)\n",
      "('rental',)\n",
      "('sales_by_film_category',)\n",
      "('sales_by_store',)\n",
      "('staff',)\n",
      "('staff_list',)\n",
      "('store',)\n"
     ]
    }
   ],
   "source": [
    "for name in table_names:\n",
    "    print(name)"
   ]
  },
  {
   "cell_type": "markdown",
   "metadata": {},
   "source": [
    "## Describing the Tables"
   ]
  },
  {
   "cell_type": "code",
   "execution_count": null,
   "metadata": {},
   "outputs": [],
   "source": []
  }
 ],
 "metadata": {
  "kernelspec": {
   "display_name": "Python 3",
   "language": "python",
   "name": "python3"
  },
  "language_info": {
   "codemirror_mode": {
    "name": "ipython",
    "version": 3
   },
   "file_extension": ".py",
   "mimetype": "text/x-python",
   "name": "python",
   "nbconvert_exporter": "python",
   "pygments_lexer": "ipython3",
   "version": "3.7.0"
  }
 },
 "nbformat": 4,
 "nbformat_minor": 2
}
